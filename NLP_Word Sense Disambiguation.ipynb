{
  "nbformat": 4,
  "nbformat_minor": 0,
  "metadata": {
    "colab": {
      "provenance": []
    },
    "kernelspec": {
      "name": "python3",
      "display_name": "Python 3"
    },
    "language_info": {
      "name": "python"
    }
  },
  "cells": [
    {
      "cell_type": "markdown",
      "source": [
        "**Lab 4 - Word Sense Disambiguation (WSD)**\n",
        "\n",
        "Submitted by: Angeline A\n",
        "\n",
        "Submitted on: 02/09/2024"
      ],
      "metadata": {
        "id": "CWpqpjfN2vY4"
      }
    },
    {
      "cell_type": "code",
      "source": [
        "pip install youtube-transcript-api transformers nltk spacy\n"
      ],
      "metadata": {
        "colab": {
          "base_uri": "https://localhost:8080/"
        },
        "id": "nqL7eg1V09Pc",
        "outputId": "7ca9a459-2c29-4cc4-bf4d-573cdb645f03"
      },
      "execution_count": 3,
      "outputs": [
        {
          "output_type": "stream",
          "name": "stdout",
          "text": [
            "Collecting youtube-transcript-api\n",
            "  Downloading youtube_transcript_api-0.6.2-py3-none-any.whl.metadata (15 kB)\n",
            "Requirement already satisfied: transformers in /usr/local/lib/python3.10/dist-packages (4.42.4)\n",
            "Requirement already satisfied: nltk in /usr/local/lib/python3.10/dist-packages (3.8.1)\n",
            "Requirement already satisfied: spacy in /usr/local/lib/python3.10/dist-packages (3.7.6)\n",
            "Requirement already satisfied: requests in /usr/local/lib/python3.10/dist-packages (from youtube-transcript-api) (2.32.3)\n",
            "Requirement already satisfied: filelock in /usr/local/lib/python3.10/dist-packages (from transformers) (3.15.4)\n",
            "Requirement already satisfied: huggingface-hub<1.0,>=0.23.2 in /usr/local/lib/python3.10/dist-packages (from transformers) (0.23.5)\n",
            "Requirement already satisfied: numpy<2.0,>=1.17 in /usr/local/lib/python3.10/dist-packages (from transformers) (1.26.4)\n",
            "Requirement already satisfied: packaging>=20.0 in /usr/local/lib/python3.10/dist-packages (from transformers) (24.1)\n",
            "Requirement already satisfied: pyyaml>=5.1 in /usr/local/lib/python3.10/dist-packages (from transformers) (6.0.2)\n",
            "Requirement already satisfied: regex!=2019.12.17 in /usr/local/lib/python3.10/dist-packages (from transformers) (2024.5.15)\n",
            "Requirement already satisfied: safetensors>=0.4.1 in /usr/local/lib/python3.10/dist-packages (from transformers) (0.4.4)\n",
            "Requirement already satisfied: tokenizers<0.20,>=0.19 in /usr/local/lib/python3.10/dist-packages (from transformers) (0.19.1)\n",
            "Requirement already satisfied: tqdm>=4.27 in /usr/local/lib/python3.10/dist-packages (from transformers) (4.66.5)\n",
            "Requirement already satisfied: click in /usr/local/lib/python3.10/dist-packages (from nltk) (8.1.7)\n",
            "Requirement already satisfied: joblib in /usr/local/lib/python3.10/dist-packages (from nltk) (1.4.2)\n",
            "Requirement already satisfied: spacy-legacy<3.1.0,>=3.0.11 in /usr/local/lib/python3.10/dist-packages (from spacy) (3.0.12)\n",
            "Requirement already satisfied: spacy-loggers<2.0.0,>=1.0.0 in /usr/local/lib/python3.10/dist-packages (from spacy) (1.0.5)\n",
            "Requirement already satisfied: murmurhash<1.1.0,>=0.28.0 in /usr/local/lib/python3.10/dist-packages (from spacy) (1.0.10)\n",
            "Requirement already satisfied: cymem<2.1.0,>=2.0.2 in /usr/local/lib/python3.10/dist-packages (from spacy) (2.0.8)\n",
            "Requirement already satisfied: preshed<3.1.0,>=3.0.2 in /usr/local/lib/python3.10/dist-packages (from spacy) (3.0.9)\n",
            "Requirement already satisfied: thinc<8.3.0,>=8.2.2 in /usr/local/lib/python3.10/dist-packages (from spacy) (8.2.5)\n",
            "Requirement already satisfied: wasabi<1.2.0,>=0.9.1 in /usr/local/lib/python3.10/dist-packages (from spacy) (1.1.3)\n",
            "Requirement already satisfied: srsly<3.0.0,>=2.4.3 in /usr/local/lib/python3.10/dist-packages (from spacy) (2.4.8)\n",
            "Requirement already satisfied: catalogue<2.1.0,>=2.0.6 in /usr/local/lib/python3.10/dist-packages (from spacy) (2.0.10)\n",
            "Requirement already satisfied: weasel<0.5.0,>=0.1.0 in /usr/local/lib/python3.10/dist-packages (from spacy) (0.4.1)\n",
            "Requirement already satisfied: typer<1.0.0,>=0.3.0 in /usr/local/lib/python3.10/dist-packages (from spacy) (0.12.5)\n",
            "Requirement already satisfied: pydantic!=1.8,!=1.8.1,<3.0.0,>=1.7.4 in /usr/local/lib/python3.10/dist-packages (from spacy) (2.8.2)\n",
            "Requirement already satisfied: jinja2 in /usr/local/lib/python3.10/dist-packages (from spacy) (3.1.4)\n",
            "Requirement already satisfied: setuptools in /usr/local/lib/python3.10/dist-packages (from spacy) (71.0.4)\n",
            "Requirement already satisfied: langcodes<4.0.0,>=3.2.0 in /usr/local/lib/python3.10/dist-packages (from spacy) (3.4.0)\n",
            "Requirement already satisfied: fsspec>=2023.5.0 in /usr/local/lib/python3.10/dist-packages (from huggingface-hub<1.0,>=0.23.2->transformers) (2024.6.1)\n",
            "Requirement already satisfied: typing-extensions>=3.7.4.3 in /usr/local/lib/python3.10/dist-packages (from huggingface-hub<1.0,>=0.23.2->transformers) (4.12.2)\n",
            "Requirement already satisfied: language-data>=1.2 in /usr/local/lib/python3.10/dist-packages (from langcodes<4.0.0,>=3.2.0->spacy) (1.2.0)\n",
            "Requirement already satisfied: annotated-types>=0.4.0 in /usr/local/lib/python3.10/dist-packages (from pydantic!=1.8,!=1.8.1,<3.0.0,>=1.7.4->spacy) (0.7.0)\n",
            "Requirement already satisfied: pydantic-core==2.20.1 in /usr/local/lib/python3.10/dist-packages (from pydantic!=1.8,!=1.8.1,<3.0.0,>=1.7.4->spacy) (2.20.1)\n",
            "Requirement already satisfied: charset-normalizer<4,>=2 in /usr/local/lib/python3.10/dist-packages (from requests->youtube-transcript-api) (3.3.2)\n",
            "Requirement already satisfied: idna<4,>=2.5 in /usr/local/lib/python3.10/dist-packages (from requests->youtube-transcript-api) (3.8)\n",
            "Requirement already satisfied: urllib3<3,>=1.21.1 in /usr/local/lib/python3.10/dist-packages (from requests->youtube-transcript-api) (2.0.7)\n",
            "Requirement already satisfied: certifi>=2017.4.17 in /usr/local/lib/python3.10/dist-packages (from requests->youtube-transcript-api) (2024.7.4)\n",
            "Requirement already satisfied: blis<0.8.0,>=0.7.8 in /usr/local/lib/python3.10/dist-packages (from thinc<8.3.0,>=8.2.2->spacy) (0.7.11)\n",
            "Requirement already satisfied: confection<1.0.0,>=0.0.1 in /usr/local/lib/python3.10/dist-packages (from thinc<8.3.0,>=8.2.2->spacy) (0.1.5)\n",
            "Requirement already satisfied: shellingham>=1.3.0 in /usr/local/lib/python3.10/dist-packages (from typer<1.0.0,>=0.3.0->spacy) (1.5.4)\n",
            "Requirement already satisfied: rich>=10.11.0 in /usr/local/lib/python3.10/dist-packages (from typer<1.0.0,>=0.3.0->spacy) (13.8.0)\n",
            "Requirement already satisfied: cloudpathlib<1.0.0,>=0.7.0 in /usr/local/lib/python3.10/dist-packages (from weasel<0.5.0,>=0.1.0->spacy) (0.18.1)\n",
            "Requirement already satisfied: smart-open<8.0.0,>=5.2.1 in /usr/local/lib/python3.10/dist-packages (from weasel<0.5.0,>=0.1.0->spacy) (7.0.4)\n",
            "Requirement already satisfied: MarkupSafe>=2.0 in /usr/local/lib/python3.10/dist-packages (from jinja2->spacy) (2.1.5)\n",
            "Requirement already satisfied: marisa-trie>=0.7.7 in /usr/local/lib/python3.10/dist-packages (from language-data>=1.2->langcodes<4.0.0,>=3.2.0->spacy) (1.2.0)\n",
            "Requirement already satisfied: markdown-it-py>=2.2.0 in /usr/local/lib/python3.10/dist-packages (from rich>=10.11.0->typer<1.0.0,>=0.3.0->spacy) (3.0.0)\n",
            "Requirement already satisfied: pygments<3.0.0,>=2.13.0 in /usr/local/lib/python3.10/dist-packages (from rich>=10.11.0->typer<1.0.0,>=0.3.0->spacy) (2.16.1)\n",
            "Requirement already satisfied: wrapt in /usr/local/lib/python3.10/dist-packages (from smart-open<8.0.0,>=5.2.1->weasel<0.5.0,>=0.1.0->spacy) (1.16.0)\n",
            "Requirement already satisfied: mdurl~=0.1 in /usr/local/lib/python3.10/dist-packages (from markdown-it-py>=2.2.0->rich>=10.11.0->typer<1.0.0,>=0.3.0->spacy) (0.1.2)\n",
            "Downloading youtube_transcript_api-0.6.2-py3-none-any.whl (24 kB)\n",
            "Installing collected packages: youtube-transcript-api\n",
            "Successfully installed youtube-transcript-api-0.6.2\n"
          ]
        }
      ]
    },
    {
      "cell_type": "code",
      "execution_count": 6,
      "metadata": {
        "colab": {
          "base_uri": "https://localhost:8080/"
        },
        "id": "Qw3k0BN_zMRJ",
        "outputId": "f759bfe7-0953-44d2-bf23-c933938a70d1"
      },
      "outputs": [
        {
          "output_type": "stream",
          "name": "stderr",
          "text": [
            "[nltk_data] Downloading package wordnet to /root/nltk_data...\n",
            "[nltk_data]   Package wordnet is already up-to-date!\n",
            "[nltk_data] Downloading package omw-1.4 to /root/nltk_data...\n",
            "[nltk_data]   Package omw-1.4 is already up-to-date!\n"
          ]
        },
        {
          "output_type": "stream",
          "name": "stdout",
          "text": [
            "Raw Transcript:\n",
            " foreign [Music] once upon a time in a small village there lived a wise old Monk he was known far and wide for his wisdom and sense of humor one day a young and eager student named Sam approached the master and said master I want to learn the secret to happiness and success please teach me master Sito looked at Sam with a twinkle in his eye and said very well young one But first you must complete a simple task go to the market and buy the biggest juiciest watermelon you can find then carry it on your head and walk through the village without dropping it Sam was puzzled but determined he went to the market and found a massive watermelon balancing it on his head he walked through the village with utmost concentration as he passed by people couldn't help but laugh and cheer him on some even joined in clapping and making funny faces finally after a bumpy Journey Sam reached Master setu's Hut the watermelon was intact and Sam was relieved he looked at Master situ expecting to be praised for his accomplishment but mastercito burst into Laffer well then young won he exclaimed wiping tears of Mirth from his eyes you see the secret to happiness and success is simple just like carrying that watermelon life can be full of challenges and unexpected twists but if you face them with a light heart and a sense of humor you will find Joy even in the toughest moments Sam couldn't help but laugh too realizing the wisdom in master sito's words from that day on he approached life with a smile facing challenges with the same determination he used to carry that watermelon and whenever he felt overwhelmed he would remember the funny watermelon lesson and find the strength to keep going you see in life in your life Embrace challenges with a sense of humor and you will find that life's journey becomes a joyful Adventure filled with laughter and success he determined but don't take yourself so seriously whenever you feel down or defeated remember something funny that once happened to you this is there to do motivation stories thank you so much for watching stay blessed [Music]\n",
            "Cleaned and Punctuated Transcript:\n",
            " a young and eager student named sam approached the master and said master i want to learn the secret to happiness and success please teach me master sito looked at sam with a twinkle in his eye and said very well young one but first you must complete a simple task go to the market and buy the biggest juiciest watermelon you can find then carry it on your head an ice cream . master setu's hut the watermelon was intact and sam was relieved he looked at master situ expecting to be praised for his accomplishment . sam was puzzled but determined he went to the market and found a massive watermelon balancing it on his head he walked through the village with utmost concentration . sam was determined he went to the market and found a massive watermelon balancing it on his head he walked through the he sat in laffer well then young won he exclaimed wiping tears of mirth from his eyes he exclaimed wiping tears of mirth from his eyes he exclaimed wiping tears of mirth from his eyes sam couldn't help but laugh too realizing the wisdom in master sito's words from that day on he approached life with a smile facing challenges with the same determinant sam couldn't help but laugh too realizing the wisdom in master sito's he used to carry that watermelon and whenever he felt overwhelmed he would remember the funny lesson and find the strength to keep going you see in life in your life embrace challenges with sense of humor and you will find that life's journey becomes a joyful adventure filled with laughter and success he determined but don't take yourself so seriously whenever you feel down or defeated remember something funny that once happened to you this is there to do motivation stories thank you so mrs. uch für watching stay blessed [music]\n"
          ]
        }
      ],
      "source": [
        "import nltk\n",
        "from youtube_transcript_api import YouTubeTranscriptApi\n",
        "from transformers import pipeline\n",
        "from nltk.corpus import wordnet\n",
        "\n",
        "# Download necessary NLTK data\n",
        "nltk.download('wordnet')\n",
        "nltk.download('omw-1.4')\n",
        "\n",
        "# Step 1: Extract, Clean, and Punctuate Transcript\n",
        "\n",
        "def get_transcript(video_id):\n",
        "    \"\"\"Extracts transcript from a YouTube video given its ID.\"\"\"\n",
        "    transcript = YouTubeTranscriptApi.get_transcript(video_id)\n",
        "    return \" \".join([entry['text'] for entry in transcript])\n",
        "\n",
        "def clean_and_punctuate(transcript):\n",
        "    \"\"\"Cleans and punctuates the transcript using a pre-trained model.\"\"\"\n",
        "    # Use T5 model for punctuation restoration\n",
        "    punctuator = pipeline(\"text2text-generation\", model=\"t5-small\")\n",
        "\n",
        "    # Chunking the text to avoid exceeding token limits\n",
        "    max_length = 512  # Adjust based on the model's capabilities\n",
        "    chunks = [transcript[i:i+max_length] for i in range(0, len(transcript), max_length)]\n",
        "\n",
        "    punctuated_transcript = \"\"\n",
        "    for chunk in chunks:\n",
        "        cleaned_chunk = chunk.lower()  # Lowercasing for consistent punctuation\n",
        "        punctuated_chunk = punctuator(cleaned_chunk, max_length=512)[0]['generated_text']\n",
        "        punctuated_transcript += punctuated_chunk + \" \"\n",
        "\n",
        "    return punctuated_transcript.strip()\n",
        "\n",
        "\n",
        "# Extract and clean the transcript\n",
        "video_id = \"W6wVU5b5nQk\"\n",
        "raw_transcript = get_transcript(video_id)\n",
        "print(\"Raw Transcript:\\n\", raw_transcript)\n",
        "\n",
        "cleaned_punctuated_transcript = clean_and_punctuate(raw_transcript)\n",
        "print(\"Cleaned and Punctuated Transcript:\\n\", cleaned_punctuated_transcript)\n"
      ]
    },
    {
      "cell_type": "code",
      "source": [
        "import nltk\n",
        "nltk.download('punkt')\n",
        "nltk.download('averaged_perceptron_tagger')\n",
        ""
      ],
      "metadata": {
        "colab": {
          "base_uri": "https://localhost:8080/"
        },
        "id": "VL96yHiX1txf",
        "outputId": "ab99c925-1502-44a5-e5ff-694cb5178906"
      },
      "execution_count": 10,
      "outputs": [
        {
          "output_type": "stream",
          "name": "stderr",
          "text": [
            "[nltk_data] Downloading package punkt to /root/nltk_data...\n",
            "[nltk_data]   Package punkt is already up-to-date!\n",
            "[nltk_data] Downloading package averaged_perceptron_tagger to\n",
            "[nltk_data]     /root/nltk_data...\n",
            "[nltk_data]   Unzipping taggers/averaged_perceptron_tagger.zip.\n"
          ]
        },
        {
          "output_type": "execute_result",
          "data": {
            "text/plain": [
              "True"
            ]
          },
          "metadata": {},
          "execution_count": 10
        }
      ]
    },
    {
      "cell_type": "code",
      "source": [
        "from nltk.tokenize import sent_tokenize, word_tokenize\n",
        "\n",
        "# Function to determine word senses\n",
        "def determine_word_senses(sentence):\n",
        "    \"\"\"Determines the number of senses for each open-class word in a sentence.\"\"\"\n",
        "    words = word_tokenize(sentence)\n",
        "    word_senses = {}\n",
        "    for word in words:\n",
        "        if nltk.pos_tag([word])[0][1].startswith(('NN', 'VB', 'JJ', 'RB')):  # Open-class words\n",
        "            senses = wordnet.synsets(word)\n",
        "            word_senses[word] = len(senses)\n",
        "    return word_senses\n",
        "\n",
        "# Collecting a small corpus of example sentences\n",
        "sentences = sent_tokenize(cleaned_punctuated_transcript)[:10]  # Take the first 10 sentences for example\n",
        "\n",
        "# Determine the number of senses for each open-class word in each sentence\n",
        "for sentence in sentences:\n",
        "    senses = determine_word_senses(sentence)\n",
        "    print(f\"Sentence: {sentence}\")\n",
        "    print(\"Word Senses:\", senses)\n"
      ],
      "metadata": {
        "colab": {
          "base_uri": "https://localhost:8080/"
        },
        "id": "kk5_H9qM1ojn",
        "outputId": "a872ed69-0290-42f0-dec0-64b193f42f2b"
      },
      "execution_count": 11,
      "outputs": [
        {
          "output_type": "stream",
          "name": "stdout",
          "text": [
            "Sentence: a young and eager student named sam approached the master and said master i want to learn the secret to happiness and success please teach me master sito looked at sam with a twinkle in his eye and said very well young one but first you must complete a simple task go to the market and buy the biggest juiciest watermelon you can find then carry it on your head an ice cream .\n",
            "Word Senses: {'young': 14, 'eager': 2, 'student': 2, 'named': 9, 'sam': 1, 'approached': 5, 'master': 15, 'said': 12, 'i': 4, 'want': 9, 'learn': 6, 'secret': 14, 'happiness': 2, 'success': 4, 'please': 4, 'teach': 3, 'sito': 0, 'looked': 10, 'twinkle': 4, 'eye': 6, 'very': 4, 'well': 22, 'first': 16, 'complete': 10, 'simple': 9, 'task': 4, 'go': 35, 'market': 9, 'buy': 6, 'biggest': 13, 'juiciest': 4, 'watermelon': 2, 'find': 18, 'then': 5, 'carry': 41, 'head': 42, 'ice': 11, 'cream': 8}\n",
            "Sentence: master setu's hut the watermelon was intact and sam was relieved he looked at master situ expecting to be praised for his accomplishment .\n",
            "Word Senses: {'master': 15, 'setu': 0, 'hut': 2, 'watermelon': 2, 'was': 14, 'intact': 4, 'sam': 1, 'relieved': 13, 'looked': 10, 'situ': 0, 'expecting': 6, 'be': 14, 'praised': 1, 'accomplishment': 2}\n",
            "Sentence: sam was puzzled but determined he went to the market and found a massive watermelon balancing it on his head he walked through the village with utmost concentration .\n",
            "Word Senses: {'sam': 1, 'was': 14, 'puzzled': 3, 'determined': 13, 'went': 30, 'market': 9, 'found': 21, 'massive': 4, 'watermelon': 2, 'balancing': 5, 'head': 42, 'walked': 10, 'village': 3, 'utmost': 4, 'concentration': 7}\n",
            "Sentence: sam was determined he went to the market and found a massive watermelon balancing it on his head he walked through the he sat in laffer well then young won he exclaimed wiping tears of mirth from his eyes he exclaimed wiping tears of mirth from his eyes he exclaimed wiping tears of mirth from his eyes sam couldn't help but laugh too realizing the wisdom in master sito's words from that day on he approached life with a smile facing challenges with the same determinant sam couldn't help but laugh too realizing the wisdom in master sito's he used to carry that watermelon and whenever he felt overwhelmed he would remember the funny lesson and find the strength to keep going you see in life in your life embrace challenges with sense of humor and you will find that life's journey becomes a joyful adventure filled with laughter and success he determined but don't take yourself so seriously whenever you feel down or defeated remember something funny that once happened to you this is there to do motivation stories thank you so mrs. uch für watching stay blessed [music]\n",
            "Word Senses: {'sam': 1, 'was': 14, 'determined': 13, 'went': 30, 'market': 9, 'found': 21, 'massive': 4, 'watermelon': 2, 'balancing': 5, 'head': 42, 'walked': 10, 'sat': 11, 'laffer': 1, 'well': 22, 'then': 5, 'young': 14, 'won': 7, 'exclaimed': 2, 'wiping': 1, 'tears': 10, 'mirth': 1, 'eyes': 7, \"n't\": 0, 'help': 12, 'laugh': 4, 'too': 2, 'realizing': 6, 'wisdom': 5, 'master': 15, 'sito': 0, 'words': 16, 'day': 10, 'approached': 5, 'life': 14, 'smile': 3, 'facing': 13, 'challenges': 9, 'same': 6, 'determinant': 4, 'used': 9, 'carry': 41, 'whenever': 0, 'felt': 17, 'overwhelmed': 4, 'remember': 8, 'funny': 5, 'lesson': 4, 'find': 18, 'strength': 9, 'keep': 25, 'going': 34, 'see': 25, 'embrace': 6, 'sense': 9, 'humor': 7, 'journey': 3, 'becomes': 4, 'joyful': 2, 'adventure': 3, 'filled': 12, 'laughter': 2, 'success': 4, 'do': 16, 'take': 44, 'so': 11, 'seriously': 2, 'feel': 17, 'down': 26, 'defeated': 5, 'something': 0, 'once': 3, 'happened': 5, 'is': 13, 'there': 4, 'motivation': 3, 'stories': 6, 'thank': 1, 'mrs.': 1, 'uch': 0, 'für': 0, 'watching': 8, 'stay': 16, 'blessed': 10, '[': 0, 'music': 5, ']': 0}\n"
          ]
        }
      ]
    },
    {
      "cell_type": "code",
      "source": [
        "from nltk.wsd import lesk\n",
        "\n",
        "# Function to perform Lesk algorithm WSD\n",
        "def lesk_wsd(sentence):\n",
        "    \"\"\"Performs Lesk algorithm for Word Sense Disambiguation on a sentence.\"\"\"\n",
        "    words = word_tokenize(sentence)\n",
        "    disambiguated_senses = {}\n",
        "    for word in words:\n",
        "        if nltk.pos_tag([word])[0][1].startswith(('NN', 'VB', 'JJ', 'RB')):  # Open-class words\n",
        "            sense = lesk(sentence, word)\n",
        "            disambiguated_senses[word] = sense.definition() if sense else None\n",
        "    return disambiguated_senses\n",
        "\n",
        "# Apply Lesk WSD on the collected sentences\n",
        "for sentence in sentences:\n",
        "    disambiguated_senses = lesk_wsd(sentence)\n",
        "    print(f\"Sentence: {sentence}\")\n",
        "    print(\"Disambiguated Senses:\", disambiguated_senses)\n"
      ],
      "metadata": {
        "colab": {
          "base_uri": "https://localhost:8080/"
        },
        "id": "9jJkEpIF12Aq",
        "outputId": "eba4be23-3ca1-483a-8a74-0141704bd577"
      },
      "execution_count": 12,
      "outputs": [
        {
          "output_type": "stream",
          "name": "stdout",
          "text": [
            "Sentence: a young and eager student named sam approached the master and said master i want to learn the secret to happiness and success please teach me master sito looked at sam with a twinkle in his eye and said very well young one but first you must complete a simple task go to the market and buy the biggest juiciest watermelon you can find then carry it on your head an ice cream .\n",
            "Disambiguated Senses: {'young': 'British physicist and Egyptologist; he revived the wave theory of light and proposed a three-component theory of color vision; he also played an important role in deciphering the hieroglyphics on the Rosetta Stone (1773-1829)', 'eager': 'a high wave (often dangerous) caused by tidal flow (as by colliding tidal currents or in a narrow estuary)', 'student': 'a learner who is enrolled in an educational institution', 'named': 'charge with a function; charge to be', 'sam': 'a guided missile fired from land or shipboard against an airborne target', 'approached': 'make advances to someone, usually with a proposal or suggestion', 'master': 'a combatant who is able to defeat rivals', 'said': 'express a supposition', 'i': 'used of a single unit or thing; not two or more', 'want': 'a specific feeling of desire', 'learn': 'be a student of a certain subject', 'secret': 'information known only to a special group', 'happiness': 'emotions experienced when in a state of well-being', 'success': 'a state of prosperity or fame', 'please': 'give satisfaction', 'teach': 'accustom gradually to some action or attitude', 'sito': None, 'looked': 'have a certain outward or facial expression', 'twinkle': 'emit or reflect light in a flickering manner', 'eye': 'a small hole or loop (as in a needle)', 'very': 'precisely as stated', 'well': 'come up, as of a liquid', 'first': 'the lowest forward gear ratio in the gear box of a motor vehicle; used to start a car moving', 'complete': 'write all the required information onto a form', 'simple': 'a person lacking intelligence or common sense', 'task': 'assign a task to', 'go': 'make a certain noise or sound', 'market': 'an area in a town where a public mercantile establishment is set up', 'buy': 'obtain by purchase; acquire by means of a financial transaction', 'biggest': 'above average in size or number or quantity or magnitude or extent', 'juiciest': 'having strong sexual appeal', 'watermelon': 'large oblong or roundish melon with a hard green rind and sweet watery red or occasionally yellowish pulp', 'find': 'decide on and make a declaration about', 'then': 'at a specific prior time', 'carry': \"move while supporting, either in a vehicle or in one's hands or on one's body\", 'head': '(computer science) a tiny electromagnetic coil and metal pole used to write and read magnetic patterns on a disk', 'ice': 'an amphetamine derivative (trade name Methedrine) used in the form of a crystalline hydrochloride; used as a stimulant to the nervous system and as an appetite suppressant', 'cream': 'beat thoroughly and conclusively in a competition or fight'}\n",
            "Sentence: master setu's hut the watermelon was intact and sam was relieved he looked at master situ expecting to be praised for his accomplishment .\n",
            "Disambiguated Senses: {'master': 'a combatant who is able to defeat rivals', 'setu': None, 'hut': 'small crude shelter used as a dwelling', 'watermelon': 'large oblong or roundish melon with a hard green rind and sweet watery red or occasionally yellowish pulp', 'was': 'a state in northwestern United States on the Pacific', 'intact': '(of a woman) having the hymen unbroken', 'sam': 'a guided missile fired from land or shipboard against an airborne target', 'relieved': 'free from a burden, evil, or distress', 'looked': 'have a certain outward or facial expression', 'situ': None, 'expecting': 'look forward to the birth of a child', 'be': 'represent, as of a character on stage', 'praised': 'express approval of', 'accomplishment': 'an ability that has been acquired by training'}\n",
            "Sentence: sam was puzzled but determined he went to the market and found a massive watermelon balancing it on his head he walked through the village with utmost concentration .\n",
            "Disambiguated Senses: {'sam': 'a guided missile fired from land or shipboard against an airborne target', 'was': 'a state in northwestern United States on the Pacific', 'puzzled': 'be a mystery or bewildering to', 'determined': 'establish after a calculation, investigation, experiment, survey, or study', 'went': 'make a certain noise or sound', 'market': 'an area in a town where a public mercantile establishment is set up', 'found': 'decide on and make a declaration about', 'massive': 'consisting of great mass; containing a great quantity of matter', 'watermelon': 'large oblong or roundish melon with a hard green rind and sweet watery red or occasionally yellowish pulp', 'balancing': 'getting two things to correspond', 'head': '(computer science) a tiny electromagnetic coil and metal pole used to write and read magnetic patterns on a disk', 'walked': 'take a walk; go for a walk; walk for pleasure', 'village': 'a settlement smaller than a town', 'utmost': 'the greatest possible degree', 'concentration': 'strengthening the concentration (as of a solute in a mixture) by removing diluting material'}\n",
            "Sentence: sam was determined he went to the market and found a massive watermelon balancing it on his head he walked through the he sat in laffer well then young won he exclaimed wiping tears of mirth from his eyes he exclaimed wiping tears of mirth from his eyes he exclaimed wiping tears of mirth from his eyes sam couldn't help but laugh too realizing the wisdom in master sito's words from that day on he approached life with a smile facing challenges with the same determinant sam couldn't help but laugh too realizing the wisdom in master sito's he used to carry that watermelon and whenever he felt overwhelmed he would remember the funny lesson and find the strength to keep going you see in life in your life embrace challenges with sense of humor and you will find that life's journey becomes a joyful adventure filled with laughter and success he determined but don't take yourself so seriously whenever you feel down or defeated remember something funny that once happened to you this is there to do motivation stories thank you so mrs. uch für watching stay blessed [music]\n",
            "Disambiguated Senses: {'sam': 'a guided missile fired from land or shipboard against an airborne target', 'was': 'a state in northwestern United States on the Pacific', 'determined': 'establish after a calculation, investigation, experiment, survey, or study', 'went': 'make a certain noise or sound', 'market': 'an area in a town where a public mercantile establishment is set up', 'found': 'decide on and make a declaration about', 'massive': 'consisting of great mass; containing a great quantity of matter', 'watermelon': 'large oblong or roundish melon with a hard green rind and sweet watery red or occasionally yellowish pulp', 'balancing': 'getting two things to correspond', 'head': '(computer science) a tiny electromagnetic coil and metal pole used to write and read magnetic patterns on a disk', 'walked': 'take a walk; go for a walk; walk for pleasure', 'sat': 'take a seat', 'laffer': 'United States economist who proposed the Laffer curve (born in 1940)', 'well': 'come up, as of a liquid', 'then': 'at a specific prior time', 'young': 'British physicist and Egyptologist; he revived the wave theory of light and proposed a three-component theory of color vision; he also played an important role in deciphering the hieroglyphics on the Rosetta Stone (1773-1829)', 'won': 'be the winner in a contest or competition; be victorious', 'exclaimed': 'state or announce', 'wiping': 'rub with a circular motion', 'tears': 'a drop of the clear salty saline solution secreted by the lacrimal glands', 'mirth': 'great merriment', 'eyes': 'a small hole or loop (as in a needle)', \"n't\": None, 'help': 'abstain from doing; always used with a negative', 'laugh': 'a facial expression characteristic of a person laughing', 'too': 'to a degree exceeding normal or proper limits', 'realizing': 'expand or complete (a part in a piece of baroque music) by supplying the harmonies indicated in the figured bass', 'wisdom': 'an Apocryphal book consisting mainly of a meditation on wisdom; although ascribed to Solomon it was probably written in the first century BC', 'master': 'a combatant who is able to defeat rivals', 'sito': None, 'words': 'a word is a string of bits stored in computer memory', 'day': 'the time for one complete rotation of the earth relative to a particular star, about 4 minutes shorter than a mean solar day', 'approached': 'make advances to someone, usually with a proposal or suggestion', 'life': 'a prison term lasting as long as the prisoner lives', 'smile': 'express with a smile', 'facing': 'providing something with a surface of a different material', 'challenges': 'raise a formal objection in a court of law', 'same': 'a member of an indigenous nomadic people living in northern Scandinavia and herding reindeer', 'determinant': 'a square matrix used to solve simultaneous equations', 'used': 'put into service; make work or employ for a particular purpose or for its inherent or natural purpose', 'carry': \"move while supporting, either in a vehicle or in one's hands or on one's body\", 'whenever': None, 'felt': 'a fabric made of compressed matted animal fibers', 'overwhelmed': 'cover completely or make imperceptible', 'remember': 'recall knowledge from memory; have a recollection', 'funny': 'an account of an amusing incident (usually with a punch line)', 'lesson': 'the significance of a story or event', 'find': 'decide on and make a declaration about', 'strength': 'the power to induce the taking of a course of action or the embracing of a point of view by means of argument or entreaty', 'keep': 'allow to remain in a place or position or maintain a property or feature', 'going': 'make a certain noise or sound', 'see': 'go to see a place, as for entertainment', 'embrace': 'a close affectionate and protective acceptance', 'sense': 'a natural appreciation or ability', 'humor': 'a message whose ingenuity or verbal skill or incongruity has the power to evoke laughter', 'journey': 'undertake a journey or trip', 'becomes': 'undergo a change or development', 'joyful': 'full of or producing joy', 'adventure': 'take a risk in the hope of a favorable outcome', 'filled': 'fill or meet a want or need', 'laughter': 'the activity of laughing; the manifestation of joy or mirth or scorn', 'success': 'a state of prosperity or fame', 'do': 'spend time in prison or in a labor camp', 'take': 'develop a habit', 'so': \"in the way indicated; ; ; (`thusly' is a nonstandard variant)\", 'seriously': 'in a serious manner', 'feel': 'a property perceived by touch', 'down': 'being put out by a strikeout', 'defeated': 'win a victory over', 'something': None, 'once': 'at a previous time', 'happened': 'come into being; become reality', 'is': 'represent, as of a character on stage', 'there': 'a location other than here; that place', 'motivation': 'the psychological feature that arouses an organism to action toward a desired goal; the reason for the action; that which gives purpose and direction to behavior', 'stories': 'a piece of fiction that narrates a chain of related events', 'thank': 'express gratitude or show appreciation to', 'mrs.': 'a form of address for a married woman', 'uch': None, 'für': None, 'watching': 'the act of observing; taking a patient look', 'stay': 'stop a judicial process', 'blessed': 'give a benediction to', '[': None, 'music': 'an artistic form of auditory communication incorporating instrumental or vocal tones in a structured and continuous manner', ']': None}\n"
          ]
        }
      ]
    },
    {
      "cell_type": "code",
      "source": [
        "# Function to tag open-class words with correct sense\n",
        "def tag_with_senses(sentence):\n",
        "    \"\"\"Tags each open-class word in a sentence with its correct sense using WordNet.\"\"\"\n",
        "    words = word_tokenize(sentence)\n",
        "    tagged_words = {}\n",
        "    for word in words:\n",
        "        if nltk.pos_tag([word])[0][1].startswith(('NN', 'VB', 'JJ', 'RB')):  # Open-class words\n",
        "            sense = lesk(sentence, word)\n",
        "            tagged_words[word] = sense.name() if sense else None\n",
        "    return tagged_words\n",
        "\n",
        "# Tagging each open-class word with the correct sense in the collected sentences\n",
        "for sentence in sentences:\n",
        "    tagged_words = tag_with_senses(sentence)\n",
        "    print(f\"Sentence: {sentence}\")\n",
        "    print(\"Tagged Words with Senses:\", tagged_words)\n"
      ],
      "metadata": {
        "colab": {
          "base_uri": "https://localhost:8080/"
        },
        "id": "rivezvLN2Kj6",
        "outputId": "a8e0bfd6-9273-486b-ce1a-97b03e667e4b"
      },
      "execution_count": 13,
      "outputs": [
        {
          "output_type": "stream",
          "name": "stdout",
          "text": [
            "Sentence: a young and eager student named sam approached the master and said master i want to learn the secret to happiness and success please teach me master sito looked at sam with a twinkle in his eye and said very well young one but first you must complete a simple task go to the market and buy the biggest juiciest watermelon you can find then carry it on your head an ice cream .\n",
            "Tagged Words with Senses: {'young': 'young.n.04', 'eager': 'tidal_bore.n.01', 'student': 'student.n.01', 'named': 'name.v.03', 'sam': 'surface-to-air_missile.n.01', 'approached': 'approach.v.05', 'master': 'victor.n.01', 'said': 'suppose.v.01', 'i': 'one.s.01', 'want': 'wish.n.01', 'learn': 'learn.v.04', 'secret': 'secret.n.02', 'happiness': 'happiness.n.02', 'success': 'success.n.03', 'please': 'please.v.03', 'teach': 'teach.v.02', 'sito': None, 'looked': 'look.v.03', 'twinkle': 'twinkle.v.02', 'eye': 'eye.n.05', 'very': 'very.s.01', 'well': 'well.v.01', 'first': 'first_gear.n.01', 'complete': 'complete.v.05', 'simple': 'simpleton.n.01', 'task': 'task.v.01', 'go': 'sound.v.02', 'market': 'marketplace.n.02', 'buy': 'buy.v.01', 'biggest': 'large.a.01', 'juiciest': 'juicy.s.02', 'watermelon': 'watermelon.n.02', 'find': 'rule.v.04', 'then': 'then.s.01', 'carry': 'transport.v.02', 'head': 'read/write_head.n.01', 'ice': 'methamphetamine.n.01', 'cream': 'cream.v.02'}\n",
            "Sentence: master setu's hut the watermelon was intact and sam was relieved he looked at master situ expecting to be praised for his accomplishment .\n",
            "Tagged Words with Senses: {'master': 'victor.n.01', 'setu': None, 'hut': 'hovel.n.01', 'watermelon': 'watermelon.n.02', 'was': 'washington.n.02', 'intact': 'intact.s.02', 'sam': 'surface-to-air_missile.n.01', 'relieved': 'relieve.v.08', 'looked': 'look.v.03', 'situ': None, 'expecting': 'expect.v.05', 'be': 'embody.v.02', 'praised': 'praise.v.01', 'accomplishment': 'skill.n.01'}\n",
            "Sentence: sam was puzzled but determined he went to the market and found a massive watermelon balancing it on his head he walked through the village with utmost concentration .\n",
            "Tagged Words with Senses: {'sam': 'surface-to-air_missile.n.01', 'was': 'washington.n.02', 'puzzled': 'perplex.v.01', 'determined': 'determine.v.01', 'went': 'sound.v.02', 'market': 'marketplace.n.02', 'found': 'rule.v.04', 'massive': 'massive.s.04', 'watermelon': 'watermelon.n.02', 'balancing': 'reconciliation.n.02', 'head': 'read/write_head.n.01', 'walked': 'walk.v.10', 'village': 'village.n.02', 'utmost': 'utmost.n.01', 'concentration': 'concentration.n.03'}\n",
            "Sentence: sam was determined he went to the market and found a massive watermelon balancing it on his head he walked through the he sat in laffer well then young won he exclaimed wiping tears of mirth from his eyes he exclaimed wiping tears of mirth from his eyes he exclaimed wiping tears of mirth from his eyes sam couldn't help but laugh too realizing the wisdom in master sito's words from that day on he approached life with a smile facing challenges with the same determinant sam couldn't help but laugh too realizing the wisdom in master sito's he used to carry that watermelon and whenever he felt overwhelmed he would remember the funny lesson and find the strength to keep going you see in life in your life embrace challenges with sense of humor and you will find that life's journey becomes a joyful adventure filled with laughter and success he determined but don't take yourself so seriously whenever you feel down or defeated remember something funny that once happened to you this is there to do motivation stories thank you so mrs. uch für watching stay blessed [music]\n",
            "Tagged Words with Senses: {'sam': 'surface-to-air_missile.n.01', 'was': 'washington.n.02', 'determined': 'determine.v.01', 'went': 'sound.v.02', 'market': 'marketplace.n.02', 'found': 'rule.v.04', 'massive': 'massive.s.04', 'watermelon': 'watermelon.n.02', 'balancing': 'reconciliation.n.02', 'head': 'read/write_head.n.01', 'walked': 'walk.v.10', 'sat': 'sit_down.v.01', 'laffer': 'laffer.n.01', 'well': 'well.v.01', 'then': 'then.s.01', 'young': 'young.n.04', 'won': 'win.v.01', 'exclaimed': 'proclaim.v.02', 'wiping': 'wipe.v.01', 'tears': 'tear.n.01', 'mirth': 'hilarity.n.01', 'eyes': 'eye.n.05', \"n't\": None, 'help': 'help_oneself.v.01', 'laugh': 'laugh.n.02', 'too': 'excessively.r.01', 'realizing': 'realize.v.06', 'wisdom': 'wisdom_of_solomon.n.01', 'master': 'victor.n.01', 'sito': None, 'words': 'word.n.07', 'day': 'sidereal_day.n.01', 'approached': 'approach.v.05', 'life': 'life_sentence.n.01', 'smile': 'smile.v.02', 'facing': 'lining.n.03', 'challenges': 'challenge.v.04', 'same': 'lapp.n.01', 'determinant': 'determinant.n.03', 'used': 'use.v.01', 'carry': 'transport.v.02', 'whenever': None, 'felt': 'felt.n.01', 'overwhelmed': 'submerge.v.02', 'remember': 'remember.v.01', 'funny': 'funny_story.n.01', 'lesson': 'moral.n.01', 'find': 'rule.v.04', 'strength': 'persuasiveness.n.01', 'keep': 'retain.v.02', 'going': 'sound.v.02', 'see': 'visit.v.01', 'embrace': 'embrace.n.03', 'sense': 'sense.n.05', 'humor': 'wit.n.01', 'journey': 'travel.v.02', 'becomes': 'become.v.02', 'joyful': 'joyful.a.01', 'adventure': 'gamble.v.01', 'filled': 'meet.v.04', 'laughter': 'laughter.n.02', 'success': 'success.n.03', 'do': 'serve.v.09', 'take': 'take.v.39', 'so': 'thus.r.02', 'seriously': 'seriously.r.01', 'feel': 'tactile_property.n.01', 'down': 'down.s.04', 'defeated': 'get_the_better_of.v.01', 'something': None, 'once': 'once.r.03', 'happened': 'happen.v.04', 'is': 'embody.v.02', 'there': 'there.n.01', 'motivation': 'motivation.n.01', 'stories': 'story.n.02', 'thank': 'thank.v.01', 'mrs.': 'mrs.n.01', 'uch': None, 'für': None, 'watching': 'observation.n.02', 'stay': 'stay.v.09', 'blessed': 'bless.v.01', '[': None, 'music': 'music.n.01', ']': None}\n"
          ]
        }
      ]
    }
  ]
}